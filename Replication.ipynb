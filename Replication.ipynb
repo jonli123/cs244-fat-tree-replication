{
 "cells": [
  {
   "cell_type": "code",
   "execution_count": 1,
   "metadata": {},
   "outputs": [
    {
     "data": {
      "text/plain": [
       "'\\n$7,000 for each 48-port GigE switch at the edge\\nand $700,000 for 128-port 10 GigE switches in the aggregation and\\ncore layers.\\n'"
      ]
     },
     "execution_count": 1,
     "metadata": {},
     "output_type": "execute_result"
    }
   ],
   "source": [
    "import matplotlib.pyplot as plt\n",
    "import numpy as np\n",
    "'''\n",
    "$7,000 for each 48-port GigE switch at the edge\n",
    "and $700,000 for 128-port 10 GigE switches in the aggregation and\n",
    "core layers.\n",
    "'''"
   ]
  },
  {
   "cell_type": "code",
   "execution_count": 2,
   "metadata": {},
   "outputs": [],
   "source": [
    "edge_switch_cost = 7000\n",
    "switch_128_cost = 700000\n"
   ]
  },
  {
   "cell_type": "code",
   "execution_count": 76,
   "metadata": {},
   "outputs": [
    {
     "name": "stdout",
     "output_type": "stream",
     "text": [
      "[   16   128   432  1024  2000  3456  8192 27648]\n",
      "[  28000.  112000.  252000.  448000.  700000. 1008000. 1792000. 4032000.]\n",
      "[   84000.   336000.   756000.  1344000.  2100000.  3024000.  5376000.\n",
      " 12096000.]\n",
      "[  60000.  240000.  540000.  960000. 1500000. 2160000. 3840000. 8640000.]\n"
     ]
    }
   ],
   "source": [
    "k = np.array([4,8,12,16,20,24,32,48])\n",
    "fat_tree_hosts = (np.power(k,3))//4\n",
    "\n",
    "core_switches = np.power(k/2,2)\n",
    "aggregate_switches = np.power(k,2)/2\n",
    "edge_switches = np.power(k,2)/2\n",
    "\n",
    "print(fat_tree_hosts)\n",
    "print(core_switches*7000)\n",
    "print((core_switches+aggregate_switches)*7000)\n",
    "\n",
    "#NOTE: 3000 seems to be a better price for replication than 7000. Why?\n",
    "cost = 3000* (core_switches + (edge_switches+aggregate_switches))\n",
    "\n",
    "print(cost)"
   ]
  },
  {
   "cell_type": "code",
   "execution_count": 89,
   "metadata": {
    "scrolled": true
   },
   "outputs": [
    {
     "name": "stdout",
     "output_type": "stream",
     "text": [
      "0.0 0.0 0.0\n",
      "0.078125 0.15625 2.5\n",
      "0.234375 0.46875 7.5\n",
      "0.46875 0.9375 15.0\n",
      "0.859375 1.71875 27.5\n",
      "1.5625 3.125 50.0\n",
      "3.90625 7.8125 125.0\n",
      "7.8125 15.625 250.0\n",
      "11.71875 23.4375 375.0\n",
      "15.625 31.25 500.0\n"
     ]
    }
   ],
   "source": [
    "#Three tier design\n",
    "#Edge - 48 port, 4 10G uplinks\n",
    "#128 port\n",
    "def tree_topo(ratio, num_hosts):\n",
    "    bandwidth = num_hosts/ratio\n",
    "    edge = bandwidth/40\n",
    "    aggregate = edge/(128/8)\n",
    "    core = aggregate/2\n",
    "    return core, aggregate, edge\n",
    "\n",
    "#tree_hosts = np.array([20000])\n",
    "tree_hosts = np.array([0,100,300,600,1100,2000,5000,10000,15000,20000])\n",
    "def oversubscription(r):\n",
    "    arr = []\n",
    "    for hosts in tree_hosts:\n",
    "        core, aggregate, edge = tree_topo(r,hosts)\n",
    "        print(core, aggregate, edge)\n",
    "        total = (core + aggregate)*switch_128_cost + edge_switch_cost * edge\n",
    "        arr.append(total/1000000)\n",
    "    return np.array(arr)\n",
    "\n",
    "one_to_one = oversubscription(1)"
   ]
  },
  {
   "cell_type": "code",
   "execution_count": 101,
   "metadata": {},
   "outputs": [
    {
     "name": "stdout",
     "output_type": "stream",
     "text": [
      "[ 0.     1.421  1.449  1.491  2.261  3.794  7.735 14.763 22.491 30.219]\n",
      "[ 0.     1.421  1.449  1.491  2.261  3.794  7.035 14.063 20.391 27.419]\n"
     ]
    },
    {
     "data": {
      "text/plain": [
       "<matplotlib.legend.Legend at 0x120621198>"
      ]
     },
     "execution_count": 101,
     "metadata": {},
     "output_type": "execute_result"
    },
    {
     "data": {
      "image/png": "[encoded data removed]",
      "text/plain": [
       "<Figure size 432x288 with 1 Axes>"
      ]
     },
     "metadata": {
      "needs_background": "light"
     },
     "output_type": "display_data"
    }
   ],
   "source": [
    "def tree_topo(r,num_hosts):\n",
    "    edge = np.ceil(num_hosts/48)\n",
    "    #print(num_hosts/(r*10))\n",
    "    core = np.ceil(num_hosts/(r*10*128))\n",
    "    aggregate = np.ceil((num_hosts*2)/(10*(128-core)))\n",
    "    return core, aggregate, edge\n",
    "\n",
    "def total_cost(r):\n",
    "    arr = []\n",
    "    for hosts in tree_hosts:\n",
    "        core, aggregate, edge = tree_topo(r,hosts)\n",
    "        #print(core, aggregate, edge)\n",
    "        total = (core + aggregate)*switch_128_cost + edge_switch_cost * edge\n",
    "        arr.append(total/1000000)\n",
    "    return np.array(arr)\n",
    "\n",
    "# one_to_one = total_cost(1)\n",
    "# print(one_to_one)\n",
    "three_to_one = total_cost(3)\n",
    "print(three_to_one)\n",
    "seven_to_one = total_cost(7)\n",
    "print(seven_to_one)\n",
    "\n",
    "plt.xscale('log')\n",
    "plt.xlim(300, 20000)\n",
    "plt.ylim(-1, 40)\n",
    "plt.tick_params(right=True)\n",
    "plt.plot(tree_hosts, one_to_one, 'r+',linestyle='solid',linewidth=0.5, markersize=4,label='1:1')\n",
    "plt.plot(tree_hosts, three_to_one, 'gx',linestyle='dashed',linewidth=0.5, markersize=4,label='3:1')\n",
    "plt.plot(tree_hosts, seven_to_one, 'b*',linestyle='dashed',linewidth=0.5, markersize=4,label='7:1')\n",
    "plt.plot(fat_tree_hosts, cost/1000000, 'ms',linestyle='dotted',linewidth=0.5, markersize=4,label='Fat-tree')\n",
    "plt.xlabel('Number of Hosts')\n",
    "plt.ylabel('Estimated Cost (USD millions)')\n",
    "plt.legend()"
   ]
  },
  {
   "cell_type": "code",
   "execution_count": null,
   "metadata": {},
   "outputs": [],
   "source": []
  },
  {
   "cell_type": "code",
   "execution_count": null,
   "metadata": {},
   "outputs": [],
   "source": []
  }
 ],
 "metadata": {
  "kernelspec": {
   "display_name": "Python 3",
   "language": "python",
   "name": "python3"
  },
  "language_info": {
   "codemirror_mode": {
    "name": "ipython",
    "version": 3
   },
   "file_extension": ".py",
   "mimetype": "text/x-python",
   "name": "python",
   "nbconvert_exporter": "python",
   "pygments_lexer": "ipython3",
   "version": "3.7.3"
  }
 },
 "nbformat": 4,
 "nbformat_minor": 2
}
