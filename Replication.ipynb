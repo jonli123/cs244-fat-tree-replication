{
 "cells": [
  {
   "cell_type": "code",
   "execution_count": 1,
   "metadata": {},
   "outputs": [
    {
     "data": {
      "text/plain": [
       "'\\n$7,000 for each 48-port GigE switch at the edge\\nand $700,000 for 128-port 10 GigE switches in the aggregation and\\ncore layers.\\n'"
      ]
     },
     "execution_count": 1,
     "metadata": {},
     "output_type": "execute_result"
    }
   ],
   "source": [
    "import matplotlib.pyplot as plt\n",
    "import numpy as np\n",
    "'''\n",
    "$7,000 for each 48-port GigE switch at the edge\n",
    "and $700,000 for 128-port 10 GigE switches in the aggregation and\n",
    "core layers.\n",
    "'''"
   ]
  },
  {
   "cell_type": "code",
   "execution_count": 2,
   "metadata": {},
   "outputs": [],
   "source": [
    "edge_switch_cost = 7000\n",
    "switch_128_cost = 700000\n",
    "\n",
    "ratios = ['1','3','7']"
   ]
  },
  {
   "cell_type": "code",
   "execution_count": 3,
   "metadata": {},
   "outputs": [],
   "source": [
    "def num_leaves(layers, branching):\n",
    "    return branching ** layers"
   ]
  },
  {
   "cell_type": "code",
   "execution_count": 12,
   "metadata": {},
   "outputs": [
    {
     "name": "stdout",
     "output_type": "stream",
     "text": [
      "[  432  1024  3456  5488  8192 27648]\n",
      "[ 252000.  448000. 1008000. 1372000. 1792000. 4032000.]\n",
      "[  756000.  1344000.  3024000.  4116000.  5376000. 12096000.]\n",
      "[ 540000.  960000. 2160000. 2940000. 3840000. 8640000.]\n"
     ]
    }
   ],
   "source": [
    "k = np.array([12,16,24,28,32,48])\n",
    "fat_tree_hosts = (np.power(k,3))//4\n",
    "\n",
    "core_switches = np.power(k/2,2)\n",
    "aggregate_switches = np.power(k,2)/2\n",
    "edge_switches = np.power(k,2)/2\n",
    "\n",
    "print(fat_tree_hosts)\n",
    "print(core_switches*7000)\n",
    "print((core_switches+aggregate_switches)*7000)\n",
    "\n",
    "#NOTE: 3000 seems to be a better price for replication than 7000. Why?\n",
    "cost = 3000* (core_switches + (edge_switches+aggregate_switches))\n",
    "\n",
    "print(cost)"
   ]
  },
  {
   "cell_type": "code",
   "execution_count": 44,
   "metadata": {},
   "outputs": [
    {
     "data": {
      "text/plain": [
       "[<matplotlib.lines.Line2D at 0x113d8ec88>]"
      ]
     },
     "execution_count": 44,
     "metadata": {},
     "output_type": "execute_result"
    },
    {
     "data": {
      "image/png": "[encoded data removed]",
      "text/plain": [
       "<Figure size 432x288 with 1 Axes>"
      ]
     },
     "metadata": {
      "needs_background": "light"
     },
     "output_type": "display_data"
    }
   ],
   "source": [
    "plt.xscale('log')\n",
    "plt.plot(fat_tree_hosts, cost/1000000, 'bo')"
   ]
  },
  {
   "cell_type": "code",
   "execution_count": 58,
   "metadata": {
    "scrolled": true
   },
   "outputs": [
    {
     "data": {
      "text/plain": [
       "[<matplotlib.lines.Line2D at 0x114ce5f28>]"
      ]
     },
     "execution_count": 58,
     "metadata": {},
     "output_type": "execute_result"
    },
    {
     "data": {
      "image/png": "[encoded data removed]",
      "text/plain": [
       "<Figure size 432x288 with 1 Axes>"
      ]
     },
     "metadata": {
      "needs_background": "light"
     },
     "output_type": "display_data"
    }
   ],
   "source": [
    "#Three tier design\n",
    "#Edge - 48 port, 4 10G uplinks\n",
    "#128 port\n",
    "def tree_topo(ratio, num_hosts):\n",
    "    bandwidth = num_hosts/ratio\n",
    "    edge = bandwidth/40\n",
    "    aggregate = edge/(128/8)\n",
    "    core = aggregate/2\n",
    "    return core, aggregate, edge\n",
    "\n",
    "tree_hosts = np.array([0,100,1100,2000,5000,10000,15000,20000])\n",
    "def oversubscription(r):\n",
    "    arr = []\n",
    "    for hosts in tree_hosts:\n",
    "        core, aggregate, edge = tree_topo(r,hosts)\n",
    "        # print(core, aggregate, edge)\n",
    "        total = (core + aggregate)*switch_128_cost + edge_switch_cost * edge\n",
    "        arr.append(total/1000000)\n",
    "    return np.array(arr)\n",
    "\n",
    "one_to_one = oversubscription(1)\n",
    "\n",
    "#TODO: Oversubscription is not working. Is this conceptually correct?\n",
    "three_to_one = oversubscription(3)\n",
    "seven_to_one = oversubscription(7)\n",
    "plt.xscale('log')\n",
    "plt.plot(tree_hosts, one_to_one, 'r+',linestyle='solid',linewidth=0.5, markersize=4)\n",
    "plt.plot(tree_hosts, three_to_one, 'gx',linestyle='solid',linewidth=0.5, markersize=4)\n",
    "plt.plot(tree_hosts, seven_to_one, 'b*',linestyle='solid',linewidth=0.5, markersize=4)\n",
    "plt.plot(fat_tree_hosts, cost/1000000, 'ms',linestyle='solid',linewidth=0.5, markersize=4)"
   ]
  },
  {
   "cell_type": "code",
   "execution_count": null,
   "metadata": {},
   "outputs": [],
   "source": []
  }
 ],
 "metadata": {
  "kernelspec": {
   "display_name": "Python 3",
   "language": "python",
   "name": "python3"
  },
  "language_info": {
   "codemirror_mode": {
    "name": "ipython",
    "version": 3
   },
   "file_extension": ".py",
   "mimetype": "text/x-python",
   "name": "python",
   "nbconvert_exporter": "python",
   "pygments_lexer": "ipython3",
   "version": "3.7.3"
  }
 },
 "nbformat": 4,
 "nbformat_minor": 2
}
